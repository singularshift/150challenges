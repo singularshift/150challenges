{
 "cells": [
  {
   "cell_type": "code",
   "execution_count": 1,
   "id": "a7e76d7e-8009-41c9-94a4-83251c730bd6",
   "metadata": {},
   "outputs": [
    {
     "name": "stdout",
     "output_type": "stream",
     "text": [
      "Hello World\n"
     ]
    }
   ],
   "source": [
    "print('Hello World')"
   ]
  },
  {
   "cell_type": "code",
   "execution_count": 5,
   "id": "c0d9cc8a-beea-469e-b6d7-d7af80c2093e",
   "metadata": {},
   "outputs": [
    {
     "name": "stdin",
     "output_type": "stream",
     "text": [
      "Your first name test\n"
     ]
    },
    {
     "name": "stdout",
     "output_type": "stream",
     "text": [
      "Hello test\n"
     ]
    }
   ],
   "source": [
    "# Challenge 1\n",
    "first_name = input('Your first name')\n",
    "print('Hello ' + first_name)"
   ]
  },
  {
   "cell_type": "code",
   "execution_count": 7,
   "id": "80595f3a-5fcb-4bdf-a2bf-975b7b62797a",
   "metadata": {},
   "outputs": [
    {
     "name": "stdin",
     "output_type": "stream",
     "text": [
      "Your first name test\n",
      "Your last name test2\n"
     ]
    },
    {
     "name": "stdout",
     "output_type": "stream",
     "text": [
      "Hello test test2\n"
     ]
    }
   ],
   "source": [
    "# Challenge 2\n",
    "first_name = input('Your first name')\n",
    "last_name = input('Your last name')\n",
    "print('Hello ' + first_name + ' '+ last_name)"
   ]
  },
  {
   "cell_type": "code",
   "execution_count": 25,
   "id": "647cadcd-66c7-42aa-be4e-036486a0bb0e",
   "metadata": {},
   "outputs": [
    {
     "name": "stdout",
     "output_type": "stream",
     "text": [
      "What do you call a bear with no teeth?\n",
      "A gummy bear!\n"
     ]
    }
   ],
   "source": [
    "# Challenge 3\n",
    "print('What do you call a bear with no teeth?\\nA gummy bear!')"
   ]
  },
  {
   "cell_type": "code",
   "execution_count": 29,
   "id": "2d25a080-0925-4979-9177-36b44bb7b936",
   "metadata": {},
   "outputs": [
    {
     "name": "stdin",
     "output_type": "stream",
     "text": [
      "Number 1 3\n",
      "Number 2 4\n"
     ]
    },
    {
     "name": "stdout",
     "output_type": "stream",
     "text": [
      "The total number is 7\n"
     ]
    }
   ],
   "source": [
    "# Challenge 4\n",
    "num1 = int(input('Number 1'))\n",
    "num2 = int(input('Number 2'))\n",
    "\n",
    "answer = num1 + num2\n",
    "\n",
    "print(\"The total number is \" + str(answer))\n"
   ]
  },
  {
   "cell_type": "code",
   "execution_count": 31,
   "id": "c7e791ed-e730-46d3-a079-4f651e4a6b76",
   "metadata": {},
   "outputs": [
    {
     "name": "stdin",
     "output_type": "stream",
     "text": [
      "Number 1 3\n",
      "Number 2 4\n"
     ]
    },
    {
     "name": "stdout",
     "output_type": "stream",
     "text": [
      "The total number is 14\n"
     ]
    }
   ],
   "source": [
    "# Challenge 5\n",
    "num1 = int(input('Number 1'))\n",
    "num2 = int(input('Number 2'))\n",
    "\n",
    "middle = num1 + num2\n",
    "\n",
    "answer = middle*2\n",
    "\n",
    "print(\"The total number is \" + str(answer))\n"
   ]
  },
  {
   "cell_type": "code",
   "execution_count": 35,
   "id": "fb61377a-d183-4027-94b0-ac19670cf9aa",
   "metadata": {},
   "outputs": [
    {
     "name": "stdin",
     "output_type": "stream",
     "text": [
      "Slices in the beginning 4\n",
      "Slices already eaten 3\n"
     ]
    },
    {
     "name": "stdout",
     "output_type": "stream",
     "text": [
      "You have 1 slices left\n"
     ]
    }
   ],
   "source": [
    "# Challenge 6\n",
    "slices_beginning = int(input('Slices in the beginning'))\n",
    "slices_eaten = int(input('Slices already eaten'))\n",
    "\n",
    "answer = slices_beginning - slices_eaten\n",
    "\n",
    "print(\"You have \" + str(answer) + \" slices left\")"
   ]
  },
  {
   "cell_type": "code",
   "execution_count": 41,
   "id": "06de0884-58a2-49d1-b74d-1abcb03978bb",
   "metadata": {},
   "outputs": [
    {
     "name": "stdin",
     "output_type": "stream",
     "text": [
      "Your age 30\n",
      "Your name test\n"
     ]
    },
    {
     "name": "stdout",
     "output_type": "stream",
     "text": [
      "test next birthday you will be 31\n"
     ]
    }
   ],
   "source": [
    "# Challenge 7\n",
    "age = int(input('Your age'))\n",
    "name = input('Your name')\n",
    "\n",
    "new_age = age + 1\n",
    "\n",
    "print(f\"{name}, next birthday you will be {new_age}\")"
   ]
  },
  {
   "cell_type": "code",
   "execution_count": 45,
   "id": "a0bcb61c-36b7-4ceb-a0e8-498a7ef6a07d",
   "metadata": {},
   "outputs": [
    {
     "name": "stdin",
     "output_type": "stream",
     "text": [
      "Price of the bill? 30\n",
      "How many dinners? 7\n"
     ]
    },
    {
     "name": "stdout",
     "output_type": "stream",
     "text": [
      "Everyone needs to pay 4.285714285714286€\n"
     ]
    }
   ],
   "source": [
    "# Challenge 8\n",
    "bill = int(input('Price of the bill?'))\n",
    "dinners = int(input('How many dinners?'))\n",
    "\n",
    "price_per_person = bill / dinners\n",
    "\n",
    "print(f\"Everyone needs to pay {price_per_person}€\")\n"
   ]
  },
  {
   "cell_type": "code",
   "execution_count": 47,
   "id": "7a26ed5f-8aa7-4b20-9c8a-88ae78d151c6",
   "metadata": {},
   "outputs": [
    {
     "name": "stdin",
     "output_type": "stream",
     "text": [
      "Number of Days 1\n"
     ]
    },
    {
     "name": "stdout",
     "output_type": "stream",
     "text": [
      "1 days have 24 hours, 1440 minutes, 86400 seconds\n"
     ]
    }
   ],
   "source": [
    "# Challenge 9\n",
    "number_of_days = int(input('Number of Days'))\n",
    "\n",
    "days_in_hours = number_of_days*24\n",
    "days_in_minutes = days_in_hours*60\n",
    "days_in_seconds = days_in_minutes*60\n",
    "\n",
    "print(f'{number_of_days} days have {days_in_hours} hours, {days_in_minutes} minutes, {days_in_seconds} seconds')"
   ]
  },
  {
   "cell_type": "code",
   "execution_count": 49,
   "id": "ba56ab07-317c-4dde-9a93-4cbc533d2b54",
   "metadata": {},
   "outputs": [
    {
     "name": "stdin",
     "output_type": "stream",
     "text": [
      "A kg number 3\n"
     ]
    },
    {
     "name": "stdout",
     "output_type": "stream",
     "text": [
      "6.612\n"
     ]
    }
   ],
   "source": [
    "# Challenge 10\n",
    "kilogram = int(input('A kg number'))\n",
    "\n",
    "kg_in_pound = kilogram*2.204\n",
    "\n",
    "print(kg_in_pound)"
   ]
  }
 ],
 "metadata": {
  "kernelspec": {
   "display_name": "Python 3 (ipykernel)",
   "language": "python",
   "name": "python3"
  },
  "language_info": {
   "codemirror_mode": {
    "name": "ipython",
    "version": 3
   },
   "file_extension": ".py",
   "mimetype": "text/x-python",
   "name": "python",
   "nbconvert_exporter": "python",
   "pygments_lexer": "ipython3",
   "version": "3.12.4"
  }
 },
 "nbformat": 4,
 "nbformat_minor": 5
}
